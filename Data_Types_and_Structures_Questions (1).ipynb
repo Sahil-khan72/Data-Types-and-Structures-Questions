{
  "nbformat": 4,
  "nbformat_minor": 0,
  "metadata": {
    "colab": {
      "provenance": []
    },
    "kernelspec": {
      "name": "python3",
      "display_name": "Python 3"
    },
    "language_info": {
      "name": "python"
    }
  },
  "cells": [
    {
      "cell_type": "code",
      "execution_count": null,
      "metadata": {
        "id": "xBlgExs0aSbY"
      },
      "outputs": [],
      "source": []
    },
    {
      "cell_type": "markdown",
      "source": [
        "# **Data Types and Structures Questions**\n",
        "\n",
        "1. What are data structures, and why are they important?\n",
        "-  Data structures in Python are ways to store and organize data efficiently.\n",
        "Python provides built-in ones like list, tuple, set, and dictionary.\n",
        "They help in fast data access, modification, and management.\n",
        "Using the right one improves performance and memory usage.\n",
        "Example: my_dict = {\"name\": \"Sahil\", \"age\": 22} (dictionary stores key-value pairs).\n",
        "\n",
        "2. Explain the difference between mutable and immutable data types with examples\n",
        " -  Mutable data types can be changed after creation, while immutable ones cannot.\n",
        "Examples of mutable types are list, set, dictionary.\n",
        "Examples of immutable types are tuple, string, int.\n",
        "Mutable objects allow adding, removing, or updating values.\n",
        "Immutable objects create a new copy when modified.\n",
        "\n",
        "3. What are the main differences between lists and tuples in Python?\n",
        "- Lists are mutable, meaning their elements can be changed, added, or removed.\n",
        "Tuples are immutable, so their elements cannot be modified after creation.\n",
        "Lists use square brackets [ ], while tuples use parentheses ( ).\n",
        "Lists are slightly slower than tuples because of mutability overhead.\n",
        "Use lists for dynamic data and tuples for fixed or constant data.\n",
        "4.  Describe how dictionaries store data?\n",
        "-  Dictionaries in Python store data as key-value pairs.\n",
        "Each key must be unique and immutable (like string, number, tuple).\n",
        "They use a hashing mechanism to find values quickly.\n",
        "Accessing or updating data is very fast (average O(1) time).\n",
        "Example: person = {\"name\": \"Sahil\", \"age\": 22} stores data by key.\n",
        "\n",
        "5. Why might you use a set instead of a list in Python?\n",
        "\n",
        "- A set stores only unique elements, unlike a list. Sets are unordered, while lists maintain order. Checking for membership in a set is faster than in a list. Sets are useful for removing duplicates from data. They also support mathematical operations like union and intersection. Example: my_set = {1, 2, 3} automatically ignores duplicates if added.\n",
        "\n",
        "6. What is a string in Python, and how is it different from a list?\n",
        "- A string in Python is a sequence of characters enclosed in quotes, like \"Hello\".\n",
        "Strings are immutable, so their characters cannot be changed after creation.\n",
        "A list can store multiple elements of any type and is mutable, so it can be modified.\n",
        "Both strings and lists allow indexing to access elements.\n",
        "Strings are used for text, while lists are used for collections of items.\n",
        "\n",
        "7. How do tuples ensure data integrity in Python?\n",
        "-  Tuples in Python are immutable, so their elements cannot be changed after creation.\n",
        "This immutability ensures that the data remains constant and safe from accidental changes.\n",
        "They are ideal for storing fixed collections of values.\n",
        "Tuples can be used as keys in dictionaries because they cannot be modified.\n",
        "Their fixed nature makes programs more predictable and less prone to bugs.\n",
        "8. What is a hash table, and how does it relate to dictionaries in Python?\n",
        "-  A hash table is a data structure that stores data in key-value pairs using a hash function.\n",
        "It computes an index for each key, which determines where the value is stored.\n",
        "Python dictionaries are implemented using hash tables.\n",
        "This allows fast lookup, insertion, and deletion of items.\n",
        "Each key in a dictionary must be unique and is hashed for efficient access.\n",
        "Hash tables make dictionaries highly efficient for storing and retrieving data.\n",
        "\n",
        "9.  Can lists contain different data types in Python?\n",
        "-  Yes, lists in Python can contain different data types like integers, strings, floats, or even other lists.\n",
        "For example, [1, \"hello\", 3.5, True] is valid.\n",
        "Lists maintain the order of elements and allow indexing.\n",
        "You can modify, add, or remove elements regardless of their type.\n",
        "This makes lists flexible and useful for storing mixed data.\n",
        "\n",
        "10. Explain why strings are immutable in Python?\n",
        "-  Strings are immutable in Python because once created, their characters cannot be changed.\n",
        "This ensures data safety and prevents accidental modifications.\n",
        "Immutability allows Python to optimize memory by reusing string objects.\n",
        "It also enables strings to be used as dictionary keys or in sets.\n",
        "Any operation that alters a string actually creates a new string.\n",
        "11.  What advantages do dictionaries offer over lists for certain tasks?\n",
        "-  Dictionaries provide faster lookup, insertion, and deletion compared to lists.\n",
        "They store data in key-value pairs, making access more direct and meaningful.\n",
        "Each key in a dictionary is unique, preventing duplicate entries.\n",
        "Dictionaries are ideal for tasks where data needs to be retrieved quickly.\n",
        "They offer more structured and organized storage than lists for certain tasks.\n",
        "12. Describe a scenario where using a tuple would be preferable over a list?\n",
        "-  A tuple would be preferable over a list when you need to store a collection of values that should not change, such as the coordinates of a point (x, y) in a 2D space.\n",
        "Since tuples are immutable, the data remains safe from accidental modification.\n",
        "They are also more memory-efficient and slightly faster than lists for fixed data.\n",
        "Tuples can be used as dictionary keys or elements in sets, which lists cannot.\n",
        "This makes tuples ideal for representing constant, unchangeable data in a program.\n",
        "13.  How do sets handle duplicate values in Python?\n",
        "-  Sets in Python automatically ignore duplicate values, so each element appears only once.\n",
        "When you add a value that already exists in a set, it is not added again.\n",
        "This makes sets useful for removing duplicates from a collection.\n",
        "Sets are unordered, so the original order of elements is not preserved.\n",
        "Operations like union, intersection, and difference work efficiently because duplicates are not stored.\n",
        "\n",
        "14.  How does the “in” keyword work differently for lists and dictionaries?\n",
        "-   In lists, the in keyword checks whether a value exists among the elements.\n",
        "For example, 3 in [1, 2, 3] returns True.\n",
        "\n",
        "- In dictionaries, in checks whether a key exists, not the value.\n",
        "For example, 'name' in {'name': 'Sahil'} returns True.\n",
        "This difference is important when searching for data in lists versus dictionaries.\n",
        "15.  Can you modify the elements of a tuple? Explain why or why not?\n",
        "- No, you cannot modify the elements of a tuple because tuples are immutable in Python.\n",
        "Once a tuple is created, its size and contents cannot be changed.\n",
        "This immutability ensures that the data remains constant and safe from accidental modification.\n",
        "Any operation that seems to change a tuple actually creates a new tuple.\n",
        "Tuples are ideal for storing fixed collections of values that should not be altered.\n",
        "16.   What is a nested dictionary, and give an example of its use case?\n",
        "-  A nested dictionary in Python is a dictionary that contains another dictionary as a value for one or more keys.\n",
        "It allows you to store and organize complex, hierarchical data.\n",
        "For example, a student record can store multiple details:\n",
        "\n",
        "- student = {\n",
        "    \"101\": {\"name\": \"Sahil\", \"age\": 22, \"grades\": {\"math\": 90, \"science\": 85}},\n",
        "    \"102\": {\"name\": \"Rashi\", \"age\": 21, \"grades\": {\"math\": 80, \"science\": 88}}\n",
        "}\n",
        "\n",
        "\n",
        "- Here, each student ID maps to another dictionary containing personal info and grades.\n",
        "Nested dictionaries are useful for storing structured data like JSON objects or configuration settings.\n",
        "\n",
        "17.  Describe the time complexity of accessing elements in a dictionary?\n",
        "-  Accessing elements in a Python dictionary has an average time complexity of O(1).\n",
        "This is because dictionaries use hash tables, which compute the index of a key directly.\n",
        "Finding a value by its key does not require searching through all items.\n",
        "In rare cases of hash collisions, access can degrade to O(n), but this is uncommon.\n",
        "Overall, dictionaries provide very fast and efficient key-based access compared to lists.\n",
        "\n",
        "18. In what situations are lists preferred over dictionaries?\n",
        "- Lists are preferred when the order of items matters because they keep elements in order.\n",
        "They are good for storing a sequence of items that you want to access by position.\n",
        "Lists are simpler when you don’t need keys and just want a group of similar items.\n",
        "\n",
        "19. Why are dictionaries considered unordered, and how does that affect data retrieval?\n",
        "-  Dictionaries are considered unordered because they do not store items in a specific sequence.\n",
        "This means the order in which key-value pairs were added may not be preserved (in older Python versions; from Python 3.7+, insertion order is preserved but still not the main feature).\n",
        "Data retrieval in dictionaries is done using keys, not positions, so you access values directly without relying on order.\n",
        "This allows for fast lookups, but you cannot use indexing like in lists.\n",
        "The focus is on key-based access rather than the order of items.\n",
        "\n",
        "20.  Explain the difference between a list and a dictionary in terms of data retrieval.\n",
        "-  In a list, data is retrieved by its position (index), so you access elements using numbers like my_list[0].\n",
        "In a dictionary, data is retrieved by its key, so you access values using meaningful names like my_dict[\"name\"].\n",
        "Lists require searching through elements if you don’t know the index, which can be slower.\n",
        "Dictionaries use hash tables, allowing fast access directly via keys.\n",
        "This makes lists better for ordered sequences and dictionaries better for key-value mappings.\n",
        "\n"
      ],
      "metadata": {
        "id": "pfhu2N7BsRw8"
      }
    },
    {
      "cell_type": "markdown",
      "source": [
        "# **Practical Questions**"
      ],
      "metadata": {
        "id": "k7bb3cCZ_1rT"
      }
    },
    {
      "cell_type": "code",
      "source": [
        "# 1. Write a code to create a string with your name and print it.\n",
        "name = \"Mohd Sahil\"\n",
        "print(name)\n"
      ],
      "metadata": {
        "colab": {
          "base_uri": "https://localhost:8080/"
        },
        "id": "xWQpt0y6rEnD",
        "outputId": "32287994-5296-4aa2-822d-210ef51ac73e"
      },
      "execution_count": 2,
      "outputs": [
        {
          "output_type": "stream",
          "name": "stdout",
          "text": [
            "Mohd Sahil\n"
          ]
        }
      ]
    },
    {
      "cell_type": "code",
      "source": [
        "# 2. Write a code to find the length of the string \"Hello World\".\n",
        "string = \"Hello World\"\n",
        "print(len(string))"
      ],
      "metadata": {
        "colab": {
          "base_uri": "https://localhost:8080/"
        },
        "id": "iQAKYTC2ajwy",
        "outputId": "63b2ef67-ceee-4700-a117-84c68c6f7ca0"
      },
      "execution_count": 3,
      "outputs": [
        {
          "output_type": "stream",
          "name": "stdout",
          "text": [
            "11\n"
          ]
        }
      ]
    },
    {
      "cell_type": "code",
      "source": [
        "# 3. Write a code to slice the first 3 characters from the string \"Python Programming\".\n",
        "string = \"Python Programming\"\n",
        "print(string[:3])"
      ],
      "metadata": {
        "colab": {
          "base_uri": "https://localhost:8080/"
        },
        "id": "vC_95_jwaj07",
        "outputId": "0cde3d4c-8ea3-4921-a63f-7871d4e4839d"
      },
      "execution_count": 4,
      "outputs": [
        {
          "output_type": "stream",
          "name": "stdout",
          "text": [
            "Pyt\n"
          ]
        }
      ]
    },
    {
      "cell_type": "code",
      "source": [
        "# 4. Write a code to convert the string \"hello\" to uppercase.\n",
        "str = \"hello\"\n",
        "print(str.upper())\n"
      ],
      "metadata": {
        "colab": {
          "base_uri": "https://localhost:8080/"
        },
        "id": "R8E4EuPsaj4c",
        "outputId": "3be5a8b4-e437-4bdb-8902-6819a7f47956"
      },
      "execution_count": 5,
      "outputs": [
        {
          "output_type": "stream",
          "name": "stdout",
          "text": [
            "HELLO\n"
          ]
        }
      ]
    },
    {
      "cell_type": "code",
      "source": [
        "# 5. Write a code to replace the word \"apple\" with \"orange\" in the string \"I like apple\".\n",
        "str = \"I like apple\"\n",
        "print(str.replace(\"apple\", \"orange\"))"
      ],
      "metadata": {
        "colab": {
          "base_uri": "https://localhost:8080/"
        },
        "id": "Au4WWK1Jaj7j",
        "outputId": "34b128cc-c63f-49fe-ebeb-7776ab4017c0"
      },
      "execution_count": 9,
      "outputs": [
        {
          "output_type": "stream",
          "name": "stdout",
          "text": [
            "I like orange\n"
          ]
        }
      ]
    },
    {
      "cell_type": "code",
      "source": [
        "# 6.  Write a code to create a list with numbers 1 to 5 and print it.\n",
        "list1 = [1, 2, 3, 4, 5]\n",
        "print(list1)\n"
      ],
      "metadata": {
        "colab": {
          "base_uri": "https://localhost:8080/"
        },
        "id": "i0m845VIvkCu",
        "outputId": "0750c278-39f3-4c8d-fac4-e2124260043f"
      },
      "execution_count": 11,
      "outputs": [
        {
          "output_type": "stream",
          "name": "stdout",
          "text": [
            "[1, 2, 3, 4, 5]\n"
          ]
        }
      ]
    },
    {
      "cell_type": "code",
      "source": [
        "# 7. Write a code to append the number 10 to the list [1, 2, 3, 4].\n",
        "list1 = [1, 2, 3, 4]\n",
        "list1.append(10)\n",
        "print(list1)"
      ],
      "metadata": {
        "colab": {
          "base_uri": "https://localhost:8080/"
        },
        "id": "cqdbuTDYvkFs",
        "outputId": "042908b4-1966-44d2-8460-ff206042f103"
      },
      "execution_count": 13,
      "outputs": [
        {
          "output_type": "stream",
          "name": "stdout",
          "text": [
            "[1, 2, 3, 4, 10]\n"
          ]
        }
      ]
    },
    {
      "cell_type": "code",
      "source": [
        "# 8. Write a code to remove the number 3 from the list [1, 2, 3, 4, 5].\n",
        "list1 = [1, 2, 3, 4, 5]\n",
        "list1.remove(3)\n",
        "print(list1)\n"
      ],
      "metadata": {
        "colab": {
          "base_uri": "https://localhost:8080/"
        },
        "id": "hTpAQO6kvkIj",
        "outputId": "59f14f17-de06-4fe0-c5d1-fc2b0cc03532"
      },
      "execution_count": 14,
      "outputs": [
        {
          "output_type": "stream",
          "name": "stdout",
          "text": [
            "[1, 2, 4, 5]\n"
          ]
        }
      ]
    },
    {
      "cell_type": "code",
      "source": [
        "# 9. Write a code to access the second element in the list ['a', 'b', 'c', 'd'].\n",
        "list1 = ['a', 'b', 'c', 'd']\n",
        "print(list1[1])\n"
      ],
      "metadata": {
        "colab": {
          "base_uri": "https://localhost:8080/"
        },
        "id": "YBohhY0JvkN_",
        "outputId": "f9e81b04-d5a9-411f-98f3-b4c47c87dd3b"
      },
      "execution_count": 15,
      "outputs": [
        {
          "output_type": "stream",
          "name": "stdout",
          "text": [
            "b\n"
          ]
        }
      ]
    },
    {
      "cell_type": "code",
      "source": [
        "# 10. Write a code to reverse the list [10, 20, 30, 40, 50].\n",
        "# In Python, you can reverse a list in several ways.\n",
        "\n",
        "# 1. slicing\n",
        "lis = [10, 20, 30, 40, 50]\n",
        "print(lis[::-1])\n",
        "\n",
        "#2. Using the reverse() method\n",
        "lis = [10, 20, 30, 40, 50]\n",
        "lis.reverse()\n",
        "print(lis)"
      ],
      "metadata": {
        "colab": {
          "base_uri": "https://localhost:8080/"
        },
        "id": "JWz3DmZ-vkRk",
        "outputId": "0d3579c3-d151-427e-e135-6baba9061029"
      },
      "execution_count": 22,
      "outputs": [
        {
          "output_type": "stream",
          "name": "stdout",
          "text": [
            "[50, 40, 30, 20, 10]\n",
            "[50, 40, 30, 20, 10]\n"
          ]
        }
      ]
    },
    {
      "cell_type": "code",
      "source": [
        "# 11.Write a code to create a tuple with the elements 100, 200, 300 and print it.\n",
        "tuple1 = (100, 200, 300)\n",
        "print(tuple1)"
      ],
      "metadata": {
        "colab": {
          "base_uri": "https://localhost:8080/"
        },
        "id": "gooI_MEavkWP",
        "outputId": "fda6f891-a4bc-4b54-a35d-a8dd4ebeaa0c"
      },
      "execution_count": 23,
      "outputs": [
        {
          "output_type": "stream",
          "name": "stdout",
          "text": [
            "(100, 200, 300)\n"
          ]
        }
      ]
    },
    {
      "cell_type": "code",
      "source": [
        "# 12. Write a code to access the second-to-last element of the tuple ('red', 'green', 'blue', 'yellow').\n",
        "tuple1 = ('red', 'green', 'blue', 'yellow')\n",
        "print(tuple1[-2])\n"
      ],
      "metadata": {
        "colab": {
          "base_uri": "https://localhost:8080/"
        },
        "id": "Fzeph8rOzIls",
        "outputId": "9f3f6926-f8d5-4168-e130-b8bbed90a950"
      },
      "execution_count": 24,
      "outputs": [
        {
          "output_type": "stream",
          "name": "stdout",
          "text": [
            "blue\n"
          ]
        }
      ]
    },
    {
      "cell_type": "code",
      "source": [
        "# 13. Write a code to find the minimum number in the tuple (10, 20, 5, 15).\n",
        "tuple1 = (10, 20, 5, 15)\n",
        "print(min(tuple1))"
      ],
      "metadata": {
        "colab": {
          "base_uri": "https://localhost:8080/"
        },
        "id": "tg0AxjCpzIo7",
        "outputId": "8330aacb-b129-4235-a6f1-cb9149a0a301"
      },
      "execution_count": 25,
      "outputs": [
        {
          "output_type": "stream",
          "name": "stdout",
          "text": [
            "5\n"
          ]
        }
      ]
    },
    {
      "cell_type": "code",
      "source": [
        "# 14. Write a code to find the index of the element \"cat\" in the tuple ('dog', 'cat', 'rabbit').\n",
        "tuple1 = ('dog', 'cat', 'rabbit')\n",
        "print(tuple1.index('cat'))"
      ],
      "metadata": {
        "colab": {
          "base_uri": "https://localhost:8080/"
        },
        "id": "d7WiGD0nzIrw",
        "outputId": "6d52c495-82c3-4a71-c67e-486abfa2badd"
      },
      "execution_count": 26,
      "outputs": [
        {
          "output_type": "stream",
          "name": "stdout",
          "text": [
            "1\n"
          ]
        }
      ]
    },
    {
      "cell_type": "code",
      "source": [
        "# 15. Write a code to  create a tuple containing three different fruits and check if \"kiwi\" is in it.\n",
        "tuple1 = ('apple', 'banana', 'orange')\n",
        "print('kiwi' in tuple1)\n",
        "\n",
        "# by if - else\n",
        "tuple1 = (\"apple\",\"banana\", \"orange\")\n",
        "if \"kiwi\" in tuple1:\n",
        "    print(\"kiwi is in the tuple\")\n",
        "else:\n",
        "    print(\"kiwi is not in the tuple\")"
      ],
      "metadata": {
        "colab": {
          "base_uri": "https://localhost:8080/"
        },
        "id": "1hrvB2WmzIuu",
        "outputId": "e5b2c2bd-e9a8-44a2-9235-064fc984ca52"
      },
      "execution_count": 29,
      "outputs": [
        {
          "output_type": "stream",
          "name": "stdout",
          "text": [
            "False\n",
            "kiwi is not in the tuple\n"
          ]
        }
      ]
    },
    {
      "cell_type": "code",
      "source": [
        "#16. Write a code to create a set with the elements 'a', 'b', 'c' and print it.\n",
        "set1 = {'a', 'b', 'c'}\n",
        "print(set1)"
      ],
      "metadata": {
        "colab": {
          "base_uri": "https://localhost:8080/"
        },
        "id": "-kDVsKK7zIxd",
        "outputId": "79c0ea5e-71e1-44b3-8ed7-6efc82535d63"
      },
      "execution_count": 30,
      "outputs": [
        {
          "output_type": "stream",
          "name": "stdout",
          "text": [
            "{'a', 'b', 'c'}\n"
          ]
        }
      ]
    },
    {
      "cell_type": "code",
      "source": [
        "#17. Write a code to clear all elements from the set {1, 2, 3, 4, 5}.\n",
        "set1 = {1, 2, 3, 4, 5}\n",
        "set1.clear()\n",
        "print(set1)"
      ],
      "metadata": {
        "colab": {
          "base_uri": "https://localhost:8080/"
        },
        "id": "U_b4DD0ozI1k",
        "outputId": "66e00e92-3f9d-4863-b73a-765a67fe1641"
      },
      "execution_count": 31,
      "outputs": [
        {
          "output_type": "stream",
          "name": "stdout",
          "text": [
            "set()\n"
          ]
        }
      ]
    },
    {
      "cell_type": "code",
      "source": [
        "# 18. Write a code to remove the element 4 from the set {1, 2, 3, 4}.\n",
        "set1 = {1, 2, 3, 4}\n",
        "set1.remove(4)\n",
        "print(set1)"
      ],
      "metadata": {
        "colab": {
          "base_uri": "https://localhost:8080/"
        },
        "id": "0vx3RHN5zI4W",
        "outputId": "d6dd7a92-657c-4693-a288-a6b32b0686c4"
      },
      "execution_count": 32,
      "outputs": [
        {
          "output_type": "stream",
          "name": "stdout",
          "text": [
            "{1, 2, 3}\n"
          ]
        }
      ]
    },
    {
      "cell_type": "code",
      "source": [
        "# 19. Write a code to find the union of two sets {1, 2, 3} and {3, 4, 5}.\n",
        "set1 = {1, 2, 3}\n",
        "set2 = {3, 4, 5}\n",
        "set3 = set1 | set2\n",
        "print(set3)\n",
        "\n",
        "# second method\n",
        "result = set1.union(set2)  # {1, 2, 3, 4, 5}\n",
        "print(result)"
      ],
      "metadata": {
        "colab": {
          "base_uri": "https://localhost:8080/"
        },
        "id": "FOo6goAV8BHD",
        "outputId": "5bc7b6ea-37b8-4586-cb48-cafbbe90141e"
      },
      "execution_count": 36,
      "outputs": [
        {
          "output_type": "stream",
          "name": "stdout",
          "text": [
            "{1, 2, 3, 4, 5}\n",
            "{1, 2, 3, 4, 5}\n"
          ]
        }
      ]
    },
    {
      "cell_type": "code",
      "source": [
        "# 20. Write a code to find the intersection of two sets {1, 2, 3} and {2, 3, 4}.\n",
        "set1 = {1, 2, 3}\n",
        "set2 = {2, 3, 4}\n",
        "set3 = set1 & set2\n",
        "print(set3)\n",
        "\n",
        "# second method\n",
        "result = set1.intersection(set2)  # {2, 3}\n",
        "print(result)"
      ],
      "metadata": {
        "colab": {
          "base_uri": "https://localhost:8080/"
        },
        "id": "1OymngWT8BKN",
        "outputId": "e1a72530-ca6e-489e-996c-7834ecfedb4e"
      },
      "execution_count": 37,
      "outputs": [
        {
          "output_type": "stream",
          "name": "stdout",
          "text": [
            "{2, 3}\n",
            "{2, 3}\n"
          ]
        }
      ]
    },
    {
      "cell_type": "code",
      "source": [
        "# 21. Write a code to create a dictionary with the keys \"name\", \"age\", and \"city\", and print it.\n",
        "dict1 = {\"name\": \"Sahil\", \"age\": 22, \"city\": \"Mumbai\"}\n",
        "print(dict1)"
      ],
      "metadata": {
        "colab": {
          "base_uri": "https://localhost:8080/"
        },
        "id": "6J92RLoy8BPc",
        "outputId": "51b4ddd1-a97e-4e08-e126-8adcd17b143c"
      },
      "execution_count": 38,
      "outputs": [
        {
          "output_type": "stream",
          "name": "stdout",
          "text": [
            "{'name': 'Sahil', 'age': 22, 'city': 'Mumbai'}\n"
          ]
        }
      ]
    },
    {
      "cell_type": "code",
      "source": [
        "# 22. Write a code to add a new key-value pair \"country\": \"USA\" to the dictionary {'name': 'John', 'age': 25}.\n",
        "dict1 = {'name': 'John', 'age': 25}\n",
        "dict1[\"country\"] = \"USA\"\n",
        "print(dict1)"
      ],
      "metadata": {
        "colab": {
          "base_uri": "https://localhost:8080/"
        },
        "id": "oJtBRRzY8BSR",
        "outputId": "1052be12-4240-48ff-b7d5-e0f48d64b287"
      },
      "execution_count": 39,
      "outputs": [
        {
          "output_type": "stream",
          "name": "stdout",
          "text": [
            "{'name': 'John', 'age': 25, 'country': 'USA'}\n"
          ]
        }
      ]
    },
    {
      "cell_type": "code",
      "source": [
        "# 23. Write a code to access the value associated with the key \"name\" in the dictionary {'name': 'Alice', 'age': 30}.\n",
        "dict1 = {'name': 'Alice', 'age': 30}\n",
        "print(dict1[\"name\"])"
      ],
      "metadata": {
        "colab": {
          "base_uri": "https://localhost:8080/"
        },
        "id": "YbzWx5M18BUq",
        "outputId": "2516bfc5-7911-457a-9e11-c874b6992f40"
      },
      "execution_count": 40,
      "outputs": [
        {
          "output_type": "stream",
          "name": "stdout",
          "text": [
            "Alice\n"
          ]
        }
      ]
    },
    {
      "cell_type": "code",
      "source": [
        "# 24. Write a code to remove the key \"age\" from the dictionary {'name': 'Bob', 'age': 22, 'city': 'New York'}.\n",
        "dict1 = {'name': 'Bob', 'age': 22, 'city': 'New York'}\n",
        "dict1.pop(\"age\")\n",
        "print(dict1)"
      ],
      "metadata": {
        "colab": {
          "base_uri": "https://localhost:8080/"
        },
        "id": "d2fFbCjh8BWx",
        "outputId": "bae23c93-a6e2-433a-d9e4-a71fcff8ac48"
      },
      "execution_count": 41,
      "outputs": [
        {
          "output_type": "stream",
          "name": "stdout",
          "text": [
            "{'name': 'Bob', 'city': 'New York'}\n"
          ]
        }
      ]
    },
    {
      "cell_type": "code",
      "source": [
        "# 25. Write a code to check if the key \"city\" exists in the dictionary {'name': 'Alice', 'city': 'Paris'}.\n",
        "dict1 = {'name': 'Alice', 'city': 'Paris'}\n",
        "print(\"city\" in dict1)\n",
        "\n",
        "# by if - else\n",
        "dict1 = {'name': 'Alice', 'city': 'Paris'}\n",
        "if \"city\" in dict1:\n",
        "    print(\"city is in the dictionary\")\n",
        "else:\n",
        "    print(\"city is not in the dictionary\")"
      ],
      "metadata": {
        "colab": {
          "base_uri": "https://localhost:8080/"
        },
        "id": "_35OaG9l9btH",
        "outputId": "3e737556-74da-4110-8a58-d5a5217fafda"
      },
      "execution_count": 43,
      "outputs": [
        {
          "output_type": "stream",
          "name": "stdout",
          "text": [
            "True\n",
            "city is in the dictionary\n"
          ]
        }
      ]
    },
    {
      "cell_type": "code",
      "source": [
        "# 26. Write a code to create a list, a tuple, and a dictionary, and print them all.\n",
        "list1 = [1, 2, 3, 4]\n",
        "tuple1 = (1, 2, 3, 4)\n",
        "dict1 = {\"name\": \"Sahil\", \"age\": 22, \"city\": \"Mumbai\"}\n",
        "print(list1)\n",
        "print(tuple1)\n",
        "print(dict1)"
      ],
      "metadata": {
        "colab": {
          "base_uri": "https://localhost:8080/"
        },
        "id": "D6_rGYUP9bvr",
        "outputId": "17046728-9b21-455e-a976-eaae54553455"
      },
      "execution_count": 45,
      "outputs": [
        {
          "output_type": "stream",
          "name": "stdout",
          "text": [
            "[1, 2, 3, 4]\n",
            "(1, 2, 3, 4)\n",
            "{'name': 'Sahil', 'age': 22, 'city': 'Mumbai'}\n"
          ]
        }
      ]
    },
    {
      "cell_type": "code",
      "source": [
        "# 27. Write a code to create a list of 5 random numbers between 1 and 100, sort it in ascending order, and print the result.(replaced)\n",
        "import random\n",
        "list1 = [random.randint(1, 100) for _ in range(5)]\n",
        "list1.sort()\n",
        "print(list1)"
      ],
      "metadata": {
        "colab": {
          "base_uri": "https://localhost:8080/"
        },
        "id": "T3goMi8y9byx",
        "outputId": "ea091c20-f14d-4c65-f468-a46a45c8b950"
      },
      "execution_count": 46,
      "outputs": [
        {
          "output_type": "stream",
          "name": "stdout",
          "text": [
            "[3, 31, 79, 84, 85]\n"
          ]
        }
      ]
    },
    {
      "cell_type": "code",
      "source": [
        "# 28. Write a code to create a list with strings and print the element at the third index.\n",
        "list1 = [\"apple\", \"banana\", \"orange\", \"grape\", \"kiwi\"]\n",
        "print(list1[3])"
      ],
      "metadata": {
        "colab": {
          "base_uri": "https://localhost:8080/"
        },
        "id": "C2fzPLZJ9b34",
        "outputId": "5d53b5a1-e67a-4ca1-a454-a5b6582045c9"
      },
      "execution_count": 47,
      "outputs": [
        {
          "output_type": "stream",
          "name": "stdout",
          "text": [
            "grape\n"
          ]
        }
      ]
    },
    {
      "cell_type": "code",
      "source": [
        "# 29. Write a code to combine two dictionaries into one and print the result.\n",
        "dict1 = {\"name\": \"Sahil\", \"age\": 22}\n",
        "dict2 = {\"city\": \"Mumbai\", \"country\": \"India\"}\n",
        "dict1.update(dict2)\n",
        "print(dict1)"
      ],
      "metadata": {
        "colab": {
          "base_uri": "https://localhost:8080/"
        },
        "id": "2C61v_GK-SF4",
        "outputId": "7a197e9c-d02b-4416-f350-0d58437c15c4"
      },
      "execution_count": 48,
      "outputs": [
        {
          "output_type": "stream",
          "name": "stdout",
          "text": [
            "{'name': 'Sahil', 'age': 22, 'city': 'Mumbai', 'country': 'India'}\n"
          ]
        }
      ]
    },
    {
      "cell_type": "code",
      "source": [
        "# 30. Write a code to convert a list of strings into a set.\n",
        "list1 = [\"apple\", \"banana\", \"orange\"]\n",
        "set1 = set(list1)\n",
        "print(set1)"
      ],
      "metadata": {
        "colab": {
          "base_uri": "https://localhost:8080/"
        },
        "id": "Nn-iok-V-SMg",
        "outputId": "84ffa692-cd2b-4702-d431-3e0003fdd8fa"
      },
      "execution_count": 49,
      "outputs": [
        {
          "output_type": "stream",
          "name": "stdout",
          "text": [
            "{'apple', 'orange', 'banana'}\n"
          ]
        }
      ]
    }
  ]
}